{
 "cells": [
  {
   "cell_type": "code",
   "execution_count": 1,
   "id": "1303e46e-9127-4d88-a975-a4d4db0cbe97",
   "metadata": {},
   "outputs": [
    {
     "name": "stdout",
     "output_type": "stream",
     "text": [
      "Requirement already satisfied: numpy in c:\\users\\sula\\appdata\\local\\programs\\python\\python311\\lib\\site-packages (1.24.3)\n"
     ]
    },
    {
     "name": "stderr",
     "output_type": "stream",
     "text": [
      "\n",
      "[notice] A new release of pip is available: 23.1.2 -> 23.2.1\n",
      "[notice] To update, run: python.exe -m pip install --upgrade pip\n"
     ]
    },
    {
     "name": "stdout",
     "output_type": "stream",
     "text": [
      "Requirement already satisfied: pandas in c:\\users\\sula\\appdata\\local\\programs\\python\\python311\\lib\\site-packages (2.0.3)\n",
      "Requirement already satisfied: python-dateutil>=2.8.2 in c:\\users\\sula\\appdata\\local\\programs\\python\\python311\\lib\\site-packages (from pandas) (2.8.2)\n",
      "Requirement already satisfied: pytz>=2020.1 in c:\\users\\sula\\appdata\\local\\programs\\python\\python311\\lib\\site-packages (from pandas) (2023.3)\n",
      "Requirement already satisfied: tzdata>=2022.1 in c:\\users\\sula\\appdata\\local\\programs\\python\\python311\\lib\\site-packages (from pandas) (2023.3)\n",
      "Requirement already satisfied: numpy>=1.21.0 in c:\\users\\sula\\appdata\\local\\programs\\python\\python311\\lib\\site-packages (from pandas) (1.24.3)\n",
      "Requirement already satisfied: six>=1.5 in c:\\users\\sula\\appdata\\local\\programs\\python\\python311\\lib\\site-packages (from python-dateutil>=2.8.2->pandas) (1.16.0)\n"
     ]
    },
    {
     "name": "stderr",
     "output_type": "stream",
     "text": [
      "\n",
      "[notice] A new release of pip is available: 23.1.2 -> 23.2.1\n",
      "[notice] To update, run: python.exe -m pip install --upgrade pip\n"
     ]
    }
   ],
   "source": [
    "!pip install numpy\n",
    "!pip install pandas"
   ]
  },
  {
   "cell_type": "code",
   "execution_count": 2,
   "id": "8f3eabbe-eaf3-4c24-a2dd-7a94b9a1ef7d",
   "metadata": {},
   "outputs": [],
   "source": [
    "import numpy as np\n",
    "import pandas as pd"
   ]
  },
  {
   "cell_type": "code",
   "execution_count": 3,
   "id": "6cb245ed-8156-4fac-8b2c-114da7bac584",
   "metadata": {},
   "outputs": [
    {
     "data": {
      "text/html": [
       "<div>\n",
       "<style scoped>\n",
       "    .dataframe tbody tr th:only-of-type {\n",
       "        vertical-align: middle;\n",
       "    }\n",
       "\n",
       "    .dataframe tbody tr th {\n",
       "        vertical-align: top;\n",
       "    }\n",
       "\n",
       "    .dataframe thead th {\n",
       "        text-align: right;\n",
       "    }\n",
       "</style>\n",
       "<table border=\"1\" class=\"dataframe\">\n",
       "  <thead>\n",
       "    <tr style=\"text-align: right;\">\n",
       "      <th></th>\n",
       "      <th>Company</th>\n",
       "      <th>Year</th>\n",
       "      <th>Condition</th>\n",
       "      <th>Fuel</th>\n",
       "      <th>Performance type</th>\n",
       "      <th>Drive Type</th>\n",
       "      <th>Country</th>\n",
       "      <th>Body Style</th>\n",
       "      <th>Price</th>\n",
       "    </tr>\n",
       "  </thead>\n",
       "  <tbody>\n",
       "    <tr>\n",
       "      <th>0</th>\n",
       "      <td>Audi</td>\n",
       "      <td>2012</td>\n",
       "      <td>Registered</td>\n",
       "      <td>Petrol</td>\n",
       "      <td>Plug-in Hybrid (PHEV)</td>\n",
       "      <td>All-Wheel Drive (AWD)</td>\n",
       "      <td>European</td>\n",
       "      <td>Crossover</td>\n",
       "      <td>$107,386.48</td>\n",
       "    </tr>\n",
       "    <tr>\n",
       "      <th>1</th>\n",
       "      <td>Hummer</td>\n",
       "      <td>2018</td>\n",
       "      <td>Brand New</td>\n",
       "      <td>Diesel</td>\n",
       "      <td>Hybrid</td>\n",
       "      <td>All-Wheel Drive (AWD)</td>\n",
       "      <td>Asian</td>\n",
       "      <td>SUV</td>\n",
       "      <td>$141,834.25</td>\n",
       "    </tr>\n",
       "    <tr>\n",
       "      <th>2</th>\n",
       "      <td>Pagani</td>\n",
       "      <td>2013</td>\n",
       "      <td>Registered</td>\n",
       "      <td>Electric</td>\n",
       "      <td>Super</td>\n",
       "      <td>Front-Wheel Drive (FWD)</td>\n",
       "      <td>Asian</td>\n",
       "      <td>Pickup Truck</td>\n",
       "      <td>$89,763.13</td>\n",
       "    </tr>\n",
       "    <tr>\n",
       "      <th>3</th>\n",
       "      <td>Toyota</td>\n",
       "      <td>2020</td>\n",
       "      <td>Registered</td>\n",
       "      <td>Hybrid</td>\n",
       "      <td>Sports</td>\n",
       "      <td>Four-Wheel Drive (4WD)</td>\n",
       "      <td>British</td>\n",
       "      <td>Sedan</td>\n",
       "      <td>$133,544.29</td>\n",
       "    </tr>\n",
       "    <tr>\n",
       "      <th>4</th>\n",
       "      <td>Chevrolet</td>\n",
       "      <td>2020</td>\n",
       "      <td>Unregistered</td>\n",
       "      <td>Gas</td>\n",
       "      <td>Hyper</td>\n",
       "      <td>Rear-Wheel Drive (RWD)</td>\n",
       "      <td>Asian</td>\n",
       "      <td>Estate/Wagon</td>\n",
       "      <td>$4,748.35</td>\n",
       "    </tr>\n",
       "  </tbody>\n",
       "</table>\n",
       "</div>"
      ],
      "text/plain": [
       "     Company  Year     Condition      Fuel       Performance type  \\\n",
       "0       Audi  2012    Registered    Petrol  Plug-in Hybrid (PHEV)   \n",
       "1     Hummer  2018     Brand New    Diesel                 Hybrid   \n",
       "2     Pagani  2013    Registered  Electric                  Super   \n",
       "3     Toyota  2020    Registered    Hybrid                 Sports   \n",
       "4  Chevrolet  2020  Unregistered       Gas                  Hyper   \n",
       "\n",
       "                Drive Type   Country    Body Style         Price  \n",
       "0    All-Wheel Drive (AWD)  European     Crossover  $107,386.48   \n",
       "1    All-Wheel Drive (AWD)     Asian           SUV  $141,834.25   \n",
       "2  Front-Wheel Drive (FWD)     Asian  Pickup Truck   $89,763.13   \n",
       "3   Four-Wheel Drive (4WD)   British         Sedan  $133,544.29   \n",
       "4   Rear-Wheel Drive (RWD)     Asian  Estate/Wagon    $4,748.35   "
      ]
     },
     "execution_count": 3,
     "metadata": {},
     "output_type": "execute_result"
    }
   ],
   "source": [
    "url = \"https://raw.githubusercontent.com/ThaminduSulakshana/Vehicle-Value-Predictor/main/model%20building/vehicle%20values.csv\"\n",
    "data = pd.read_csv(url, encoding='latin-1')\n",
    "data.head()"
   ]
  },
  {
   "cell_type": "code",
   "execution_count": 4,
   "id": "c57e88fe-b111-44ae-926b-50cc7cf0a41f",
   "metadata": {},
   "outputs": [
    {
     "data": {
      "text/plain": [
       "Company\n",
       "Fiat             36\n",
       "Cadilla          32\n",
       "Subaru           31\n",
       "Mercedes-Benz    28\n",
       "Nissan           28\n",
       "Mazda            28\n",
       "Suzuki           27\n",
       "Chevrolet        27\n",
       "Pagani           26\n",
       "Jaguar           26\n",
       "Dodge            26\n",
       "Aston Martin     26\n",
       "Hummer           25\n",
       "Honda            25\n",
       "Peugeot          25\n",
       "Tesla            25\n",
       "Ram              25\n",
       "Volvo            25\n",
       "Land Rover       24\n",
       "Toyota           24\n",
       "Mitsubishi       23\n",
       "Alfa Romeo       23\n",
       "Ferrari          22\n",
       "McLaren          22\n",
       "BMW              22\n",
       "Lamborghini      22\n",
       "Jeep             22\n",
       "Lincoln          22\n",
       "Bugatti          21\n",
       "Porsche          21\n",
       "Lotus            21\n",
       "Audi             21\n",
       "Renault          21\n",
       "Hyundai          21\n",
       "Ford             21\n",
       "Lexus            20\n",
       "Koenigsegg       19\n",
       "Rolls-Royce      19\n",
       "Bentley          19\n",
       "Kia              17\n",
       "Maserati         15\n",
       "Mini             14\n",
       "Volkswagen       13\n",
       "Name: count, dtype: int64"
      ]
     },
     "execution_count": 4,
     "metadata": {},
     "output_type": "execute_result"
    }
   ],
   "source": [
    "data['Company'].value_counts()"
   ]
  },
  {
   "cell_type": "code",
   "execution_count": 5,
   "id": "2a13b46f-64e8-4690-a223-0bca5a5e9f28",
   "metadata": {},
   "outputs": [
    {
     "data": {
      "text/plain": [
       "(1000, 9)"
      ]
     },
     "execution_count": 5,
     "metadata": {},
     "output_type": "execute_result"
    }
   ],
   "source": [
    "data.shape "
   ]
  },
  {
   "cell_type": "code",
   "execution_count": 6,
   "id": "5d01527f-bd4c-449e-a0ad-482d6daf8ba5",
   "metadata": {},
   "outputs": [
    {
     "data": {
      "text/plain": [
       "Company             0\n",
       "Year                0\n",
       "Condition           0\n",
       "Fuel                0\n",
       "Performance type    0\n",
       "Drive Type          0\n",
       "Country             0\n",
       "Body Style          0\n",
       "Price               0\n",
       "dtype: int64"
      ]
     },
     "execution_count": 6,
     "metadata": {},
     "output_type": "execute_result"
    }
   ],
   "source": [
    "data.isnull().sum()"
   ]
  },
  {
   "cell_type": "code",
   "execution_count": 7,
   "id": "1b9f56cd-1e50-41a1-9e52-1f2df72e5dd2",
   "metadata": {},
   "outputs": [
    {
     "name": "stdout",
     "output_type": "stream",
     "text": [
      "<class 'pandas.core.frame.DataFrame'>\n",
      "RangeIndex: 1000 entries, 0 to 999\n",
      "Data columns (total 9 columns):\n",
      " #   Column            Non-Null Count  Dtype \n",
      "---  ------            --------------  ----- \n",
      " 0   Company           1000 non-null   object\n",
      " 1   Year              1000 non-null   int64 \n",
      " 2   Condition         1000 non-null   object\n",
      " 3   Fuel              1000 non-null   object\n",
      " 4   Performance type  1000 non-null   object\n",
      " 5   Drive Type        1000 non-null   object\n",
      " 6   Country           1000 non-null   object\n",
      " 7   Body Style        1000 non-null   object\n",
      " 8   Price             1000 non-null   object\n",
      "dtypes: int64(1), object(8)\n",
      "memory usage: 70.4+ KB\n"
     ]
    }
   ],
   "source": [
    "data.info()"
   ]
  },
  {
   "cell_type": "code",
   "execution_count": 8,
   "id": "ea82641c-d1cf-4434-9559-e79cebb691db",
   "metadata": {},
   "outputs": [
    {
     "data": {
      "text/html": [
       "<div>\n",
       "<style scoped>\n",
       "    .dataframe tbody tr th:only-of-type {\n",
       "        vertical-align: middle;\n",
       "    }\n",
       "\n",
       "    .dataframe tbody tr th {\n",
       "        vertical-align: top;\n",
       "    }\n",
       "\n",
       "    .dataframe thead th {\n",
       "        text-align: right;\n",
       "    }\n",
       "</style>\n",
       "<table border=\"1\" class=\"dataframe\">\n",
       "  <thead>\n",
       "    <tr style=\"text-align: right;\">\n",
       "      <th></th>\n",
       "      <th>Company</th>\n",
       "      <th>Year</th>\n",
       "      <th>Condition</th>\n",
       "      <th>Fuel</th>\n",
       "      <th>Performance type</th>\n",
       "      <th>Drive Type</th>\n",
       "      <th>Country</th>\n",
       "      <th>Body Style</th>\n",
       "      <th>Price</th>\n",
       "    </tr>\n",
       "  </thead>\n",
       "  <tbody>\n",
       "    <tr>\n",
       "      <th>0</th>\n",
       "      <td>Audi</td>\n",
       "      <td>2012</td>\n",
       "      <td>Registered</td>\n",
       "      <td>Petrol</td>\n",
       "      <td>Plug-in Hybrid (PHEV)</td>\n",
       "      <td>All-Wheel Drive (AWD)</td>\n",
       "      <td>European</td>\n",
       "      <td>Crossover</td>\n",
       "      <td>$107,386.48</td>\n",
       "    </tr>\n",
       "    <tr>\n",
       "      <th>1</th>\n",
       "      <td>Hummer</td>\n",
       "      <td>2018</td>\n",
       "      <td>Brand New</td>\n",
       "      <td>Diesel</td>\n",
       "      <td>Hybrid</td>\n",
       "      <td>All-Wheel Drive (AWD)</td>\n",
       "      <td>Asian</td>\n",
       "      <td>SUV</td>\n",
       "      <td>$141,834.25</td>\n",
       "    </tr>\n",
       "  </tbody>\n",
       "</table>\n",
       "</div>"
      ],
      "text/plain": [
       "  Company  Year   Condition    Fuel       Performance type  \\\n",
       "0    Audi  2012  Registered  Petrol  Plug-in Hybrid (PHEV)   \n",
       "1  Hummer  2018   Brand New  Diesel                 Hybrid   \n",
       "\n",
       "              Drive Type   Country Body Style         Price  \n",
       "0  All-Wheel Drive (AWD)  European  Crossover  $107,386.48   \n",
       "1  All-Wheel Drive (AWD)     Asian        SUV  $141,834.25   "
      ]
     },
     "execution_count": 8,
     "metadata": {},
     "output_type": "execute_result"
    }
   ],
   "source": [
    "data.head(2)"
   ]
  },
  {
   "cell_type": "code",
   "execution_count": 9,
   "id": "f6bb408a-af9a-43e6-b8e0-250ea8ad9fc5",
   "metadata": {},
   "outputs": [],
   "source": [
    "data['Price'] = pd.to_numeric(data['Price'].str.replace('[\\$,]', '', regex=True))"
   ]
  },
  {
   "cell_type": "code",
   "execution_count": 10,
   "id": "0c18f971-153a-48d6-b621-f742f000622a",
   "metadata": {},
   "outputs": [
    {
     "data": {
      "text/plain": [
       "Company\n",
       "Fiat             36\n",
       "Cadilla          32\n",
       "Subaru           31\n",
       "Mercedes-Benz    28\n",
       "Nissan           28\n",
       "Mazda            28\n",
       "Suzuki           27\n",
       "Chevrolet        27\n",
       "Pagani           26\n",
       "Jaguar           26\n",
       "Dodge            26\n",
       "Aston Martin     26\n",
       "Hummer           25\n",
       "Honda            25\n",
       "Peugeot          25\n",
       "Tesla            25\n",
       "Ram              25\n",
       "Volvo            25\n",
       "Land Rover       24\n",
       "Toyota           24\n",
       "Mitsubishi       23\n",
       "Alfa Romeo       23\n",
       "Ferrari          22\n",
       "McLaren          22\n",
       "BMW              22\n",
       "Lamborghini      22\n",
       "Jeep             22\n",
       "Lincoln          22\n",
       "Bugatti          21\n",
       "Porsche          21\n",
       "Lotus            21\n",
       "Audi             21\n",
       "Renault          21\n",
       "Hyundai          21\n",
       "Ford             21\n",
       "Lexus            20\n",
       "Koenigsegg       19\n",
       "Rolls-Royce      19\n",
       "Bentley          19\n",
       "Kia              17\n",
       "Maserati         15\n",
       "Mini             14\n",
       "Volkswagen       13\n",
       "Name: count, dtype: int64"
      ]
     },
     "execution_count": 10,
     "metadata": {},
     "output_type": "execute_result"
    }
   ],
   "source": [
    "data['Company'].value_counts()"
   ]
  },
  {
   "cell_type": "code",
   "execution_count": 11,
   "id": "c7a4b40b-4757-421e-bcd2-a4b7329ca1d6",
   "metadata": {},
   "outputs": [],
   "source": [
    "def add_company(inpt):\n",
    "\tif inpt== 'Mitsubishi' or inpt == 'Alfa Romeo' or inpt == 'Ferrari' or inpt == 'McLaren' or inpt == 'BMW' or inpt == 'Lamborghini' or inpt == 'Jeep' or inpt == 'Lincoln' or inpt == 'Bugatti' or inpt == 'Porsche' or inpt == 'Lotus' or inpt == 'Audi' or inpt == 'Renault' or inpt == 'Hyundai' or inpt == 'Ford' or inpt == 'Lexus' or inpt == 'Koenigsegg' or inpt == 'Rolls-Royce' or inpt == 'Bentley' or inpt == 'Kia' or inpt == '' or inpt == 'Maserati' or inpt == '' or inpt == 'Mini' or inpt == 'Volkswagen':\n",
    "\t return 'Other'\n",
    "\telse:\n",
    "\t return inpt\n",
    "data['Company'] = data['Company'].apply(add_company)"
   ]
  },
  {
   "cell_type": "code",
   "execution_count": 12,
   "id": "305fb1ac-96e9-452b-b20b-d6af17375316",
   "metadata": {},
   "outputs": [
    {
     "data": {
      "text/plain": [
       "Company\n",
       "Other            461\n",
       "Fiat              36\n",
       "Cadilla           32\n",
       "Subaru            31\n",
       "Mazda             28\n",
       "Mercedes-Benz     28\n",
       "Nissan            28\n",
       "Chevrolet         27\n",
       "Suzuki            27\n",
       "Dodge             26\n",
       "Jaguar            26\n",
       "Pagani            26\n",
       "Aston Martin      26\n",
       "Ram               25\n",
       "Tesla             25\n",
       "Peugeot           25\n",
       "Hummer            25\n",
       "Honda             25\n",
       "Volvo             25\n",
       "Land Rover        24\n",
       "Toyota            24\n",
       "Name: count, dtype: int64"
      ]
     },
     "execution_count": 12,
     "metadata": {},
     "output_type": "execute_result"
    }
   ],
   "source": [
    "data['Company'].value_counts()"
   ]
  },
  {
   "cell_type": "code",
   "execution_count": 13,
   "id": "bc80837c-ac44-4f15-a1b3-64b3c71466a1",
   "metadata": {},
   "outputs": [
    {
     "data": {
      "text/plain": [
       "Condition\n",
       "Brand New       264\n",
       "Registered      254\n",
       "Unregistered    242\n",
       "recondition     240\n",
       "Name: count, dtype: int64"
      ]
     },
     "execution_count": 13,
     "metadata": {},
     "output_type": "execute_result"
    }
   ],
   "source": [
    "data['Condition'].value_counts()"
   ]
  },
  {
   "cell_type": "code",
   "execution_count": 14,
   "id": "343727f1-fde2-47e5-8b9e-74a6ed1905f7",
   "metadata": {},
   "outputs": [],
   "source": [
    "data['Brand New'] = data['Condition'].apply(lambda x: 1 if x == 'Brand New' else 0)\n",
    "data['recondition'] = data['Condition'].apply(lambda x: 1 if x == 'Registered' else 0)"
   ]
  },
  {
   "cell_type": "code",
   "execution_count": 15,
   "id": "7f733812-5420-450f-ba31-58e1c6ef3ab4",
   "metadata": {},
   "outputs": [],
   "source": [
    "data['Petrol'] = data['Fuel'].apply(lambda x: 1 if x == 'Petrol' else 0)\n",
    "data['Diesel'] = data['Fuel'].apply(lambda x: 1 if x == 'Diesel' else 0)\n",
    "data['Electric'] = data['Fuel'].apply(lambda x: 1 if x == 'Electric' else 0)\n",
    "data['Hybrid'] = data['Fuel'].apply(lambda x: 1 if x == 'Hybrid' else 0)\n",
    "data['Gas'] = data['Fuel'].apply(lambda x: 1 if x == 'Gas' else 0)"
   ]
  },
  {
   "cell_type": "code",
   "execution_count": 16,
   "id": "11bebcd4-f29c-43ec-8ddf-1a3278bf5e72",
   "metadata": {},
   "outputs": [],
   "source": [
    "data['Super'] = data['Performance type'].apply(lambda x: 1 if x == 'Super' else 0)\n",
    "data['Sports'] = data['Performance type'].apply(lambda x: 1 if x == 'Sports' else 0)\n",
    "data['Hyper'] = data['Performance type'].apply(lambda x: 1 if x == 'Hyper' else 0)\n",
    "data['Plug-in Hybrid (PHEV)'] = data['Performance type'].apply(lambda x: 1 if x == 'Plug-in Hybrid (PHEV)' else 0)\n",
    "data['Hybrid'] = data['Performance type'].apply(lambda x: 1 if x == 'Hybrid' else 0)"
   ]
  },
  {
   "cell_type": "code",
   "execution_count": 17,
   "id": "21b2945a-702b-49c6-b310-428d9f2ef650",
   "metadata": {},
   "outputs": [
    {
     "data": {
      "text/plain": [
       "Fuel\n",
       "Petrol      200\n",
       "Diesel      200\n",
       "Electric    200\n",
       "Hybrid      200\n",
       "Gas         200\n",
       "Name: count, dtype: int64"
      ]
     },
     "execution_count": 17,
     "metadata": {},
     "output_type": "execute_result"
    }
   ],
   "source": [
    "data['Fuel'].value_counts()"
   ]
  },
  {
   "cell_type": "code",
   "execution_count": 18,
   "id": "6266bd20-3d59-4753-85e9-e7e33099ad09",
   "metadata": {},
   "outputs": [],
   "source": [
    "def set_processor(name):\n",
    "    if name == 'All-Wheel Drive (AWD)' or name == 'Four-Wheel Drive (4WD)':\n",
    "        return name\n",
    "    else:\n",
    "        if name.split()[0] == 'Front-Wheel Drive (FWD)':\n",
    "            return 'Front-Wheel Drive (FWD)'\n",
    "        else:\n",
    "            return 'Rear-Wheel Drive (RWD)'\n",
    "            \n"
   ]
  },
  {
   "cell_type": "code",
   "execution_count": 19,
   "id": "d0dbc946-8109-46cf-93c9-c79824335fa5",
   "metadata": {},
   "outputs": [
    {
     "data": {
      "text/plain": [
       "Body Style\n",
       "Coupe-SUV       113\n",
       "SUV             112\n",
       "Convertible     109\n",
       "Crossover       108\n",
       "Estate/Wagon    103\n",
       "Hatchback       100\n",
       "Pickup Truck     94\n",
       "Roadster         90\n",
       "Minivan          86\n",
       "Sedan            85\n",
       "Name: count, dtype: int64"
      ]
     },
     "execution_count": 19,
     "metadata": {},
     "output_type": "execute_result"
    }
   ],
   "source": [
    "data['Body Style'].value_counts()"
   ]
  },
  {
   "cell_type": "code",
   "execution_count": 20,
   "id": "e0c8bfcf-946e-4a4a-b771-66506509b0c3",
   "metadata": {},
   "outputs": [],
   "source": [
    "data['Coupe-SUV'] = data['Body Style'].apply(lambda x: 1 if x == 'Coupe-SUV' else 0)\n",
    "data['SUV'] = data['Body Style'].apply(lambda x: 1 if x == 'SUV' else 0)\n",
    "data['Convertible'] = data['Body Style'].apply(lambda x: 1 if x == 'Convertible' else 0)\n",
    "data['Crossover'] = data['Body Style'].apply(lambda x: 1 if x == 'Crossover' else 0)\n",
    "data['Estate/Wagon'] = data['Body Style'].apply(lambda x: 1 if x == 'Estate/Wagon' else 0)\n",
    "data['Hatchback'] = data['Body Style'].apply(lambda x: 1 if x == 'Hatchback' else 0)\n",
    "data['Pickup Truck'] = data['Body Style'].apply(lambda x: 1 if x == 'Pickup Truck' else 0)\n",
    "data['Roadster'] = data['Body Style'].apply(lambda x: 1 if x == 'Roadster' else 0)\n",
    "data['Minivan'] = data['Body Style'].apply(lambda x: 1 if x == 'Minivan' else 0)\n",
    "data['Sedan'] = data['Body Style'].apply(lambda x: 1 if x == 'Sedan' else 0)"
   ]
  },
  {
   "cell_type": "code",
   "execution_count": 21,
   "id": "1210048c-97e2-4808-95c3-6c1c031f3e61",
   "metadata": {},
   "outputs": [
    {
     "data": {
      "text/plain": [
       "Body Style\n",
       "Coupe-SUV       113\n",
       "SUV             112\n",
       "Convertible     109\n",
       "Crossover       108\n",
       "Estate/Wagon    103\n",
       "Hatchback       100\n",
       "Pickup Truck     94\n",
       "Roadster         90\n",
       "Minivan          86\n",
       "Sedan            85\n",
       "Name: count, dtype: int64"
      ]
     },
     "execution_count": 21,
     "metadata": {},
     "output_type": "execute_result"
    }
   ],
   "source": [
    "data['Body Style'].value_counts()"
   ]
  },
  {
   "cell_type": "code",
   "execution_count": 22,
   "id": "0506f6fd-ccf5-497d-b12b-e5c945cbd345",
   "metadata": {},
   "outputs": [],
   "source": [
    "columns_to_drop = ['Condition', 'Fuel', 'Performance type', 'Body Style']\n",
    "data = data.drop(columns=columns_to_drop)"
   ]
  },
  {
   "cell_type": "code",
   "execution_count": 23,
   "id": "0f19104d-7970-45c9-ac0e-2208737b0518",
   "metadata": {},
   "outputs": [
    {
     "data": {
      "text/html": [
       "<div>\n",
       "<style scoped>\n",
       "    .dataframe tbody tr th:only-of-type {\n",
       "        vertical-align: middle;\n",
       "    }\n",
       "\n",
       "    .dataframe tbody tr th {\n",
       "        vertical-align: top;\n",
       "    }\n",
       "\n",
       "    .dataframe thead th {\n",
       "        text-align: right;\n",
       "    }\n",
       "</style>\n",
       "<table border=\"1\" class=\"dataframe\">\n",
       "  <thead>\n",
       "    <tr style=\"text-align: right;\">\n",
       "      <th></th>\n",
       "      <th>Company</th>\n",
       "      <th>Year</th>\n",
       "      <th>Drive Type</th>\n",
       "      <th>Country</th>\n",
       "      <th>Price</th>\n",
       "      <th>Brand New</th>\n",
       "      <th>recondition</th>\n",
       "      <th>Petrol</th>\n",
       "      <th>Diesel</th>\n",
       "      <th>Electric</th>\n",
       "      <th>...</th>\n",
       "      <th>Coupe-SUV</th>\n",
       "      <th>SUV</th>\n",
       "      <th>Convertible</th>\n",
       "      <th>Crossover</th>\n",
       "      <th>Estate/Wagon</th>\n",
       "      <th>Hatchback</th>\n",
       "      <th>Pickup Truck</th>\n",
       "      <th>Roadster</th>\n",
       "      <th>Minivan</th>\n",
       "      <th>Sedan</th>\n",
       "    </tr>\n",
       "  </thead>\n",
       "  <tbody>\n",
       "    <tr>\n",
       "      <th>0</th>\n",
       "      <td>Other</td>\n",
       "      <td>2012</td>\n",
       "      <td>All-Wheel Drive (AWD)</td>\n",
       "      <td>European</td>\n",
       "      <td>107386.48</td>\n",
       "      <td>0</td>\n",
       "      <td>1</td>\n",
       "      <td>1</td>\n",
       "      <td>0</td>\n",
       "      <td>0</td>\n",
       "      <td>...</td>\n",
       "      <td>0</td>\n",
       "      <td>0</td>\n",
       "      <td>0</td>\n",
       "      <td>1</td>\n",
       "      <td>0</td>\n",
       "      <td>0</td>\n",
       "      <td>0</td>\n",
       "      <td>0</td>\n",
       "      <td>0</td>\n",
       "      <td>0</td>\n",
       "    </tr>\n",
       "    <tr>\n",
       "      <th>1</th>\n",
       "      <td>Hummer</td>\n",
       "      <td>2018</td>\n",
       "      <td>All-Wheel Drive (AWD)</td>\n",
       "      <td>Asian</td>\n",
       "      <td>141834.25</td>\n",
       "      <td>1</td>\n",
       "      <td>0</td>\n",
       "      <td>0</td>\n",
       "      <td>1</td>\n",
       "      <td>0</td>\n",
       "      <td>...</td>\n",
       "      <td>0</td>\n",
       "      <td>1</td>\n",
       "      <td>0</td>\n",
       "      <td>0</td>\n",
       "      <td>0</td>\n",
       "      <td>0</td>\n",
       "      <td>0</td>\n",
       "      <td>0</td>\n",
       "      <td>0</td>\n",
       "      <td>0</td>\n",
       "    </tr>\n",
       "    <tr>\n",
       "      <th>2</th>\n",
       "      <td>Pagani</td>\n",
       "      <td>2013</td>\n",
       "      <td>Front-Wheel Drive (FWD)</td>\n",
       "      <td>Asian</td>\n",
       "      <td>89763.13</td>\n",
       "      <td>0</td>\n",
       "      <td>1</td>\n",
       "      <td>0</td>\n",
       "      <td>0</td>\n",
       "      <td>1</td>\n",
       "      <td>...</td>\n",
       "      <td>0</td>\n",
       "      <td>0</td>\n",
       "      <td>0</td>\n",
       "      <td>0</td>\n",
       "      <td>0</td>\n",
       "      <td>0</td>\n",
       "      <td>1</td>\n",
       "      <td>0</td>\n",
       "      <td>0</td>\n",
       "      <td>0</td>\n",
       "    </tr>\n",
       "    <tr>\n",
       "      <th>3</th>\n",
       "      <td>Toyota</td>\n",
       "      <td>2020</td>\n",
       "      <td>Four-Wheel Drive (4WD)</td>\n",
       "      <td>British</td>\n",
       "      <td>133544.29</td>\n",
       "      <td>0</td>\n",
       "      <td>1</td>\n",
       "      <td>0</td>\n",
       "      <td>0</td>\n",
       "      <td>0</td>\n",
       "      <td>...</td>\n",
       "      <td>0</td>\n",
       "      <td>0</td>\n",
       "      <td>0</td>\n",
       "      <td>0</td>\n",
       "      <td>0</td>\n",
       "      <td>0</td>\n",
       "      <td>0</td>\n",
       "      <td>0</td>\n",
       "      <td>0</td>\n",
       "      <td>1</td>\n",
       "    </tr>\n",
       "    <tr>\n",
       "      <th>4</th>\n",
       "      <td>Chevrolet</td>\n",
       "      <td>2020</td>\n",
       "      <td>Rear-Wheel Drive (RWD)</td>\n",
       "      <td>Asian</td>\n",
       "      <td>4748.35</td>\n",
       "      <td>0</td>\n",
       "      <td>0</td>\n",
       "      <td>0</td>\n",
       "      <td>0</td>\n",
       "      <td>0</td>\n",
       "      <td>...</td>\n",
       "      <td>0</td>\n",
       "      <td>0</td>\n",
       "      <td>0</td>\n",
       "      <td>0</td>\n",
       "      <td>1</td>\n",
       "      <td>0</td>\n",
       "      <td>0</td>\n",
       "      <td>0</td>\n",
       "      <td>0</td>\n",
       "      <td>0</td>\n",
       "    </tr>\n",
       "  </tbody>\n",
       "</table>\n",
       "<p>5 rows × 26 columns</p>\n",
       "</div>"
      ],
      "text/plain": [
       "     Company  Year               Drive Type   Country      Price  Brand New  \\\n",
       "0      Other  2012    All-Wheel Drive (AWD)  European  107386.48          0   \n",
       "1     Hummer  2018    All-Wheel Drive (AWD)     Asian  141834.25          1   \n",
       "2     Pagani  2013  Front-Wheel Drive (FWD)     Asian   89763.13          0   \n",
       "3     Toyota  2020   Four-Wheel Drive (4WD)   British  133544.29          0   \n",
       "4  Chevrolet  2020   Rear-Wheel Drive (RWD)     Asian    4748.35          0   \n",
       "\n",
       "   recondition  Petrol  Diesel  Electric  ...  Coupe-SUV  SUV  Convertible  \\\n",
       "0            1       1       0         0  ...          0    0            0   \n",
       "1            0       0       1         0  ...          0    1            0   \n",
       "2            1       0       0         1  ...          0    0            0   \n",
       "3            1       0       0         0  ...          0    0            0   \n",
       "4            0       0       0         0  ...          0    0            0   \n",
       "\n",
       "   Crossover  Estate/Wagon  Hatchback  Pickup Truck  Roadster  Minivan  Sedan  \n",
       "0          1             0          0             0         0        0      0  \n",
       "1          0             0          0             0         0        0      0  \n",
       "2          0             0          0             1         0        0      0  \n",
       "3          0             0          0             0         0        0      1  \n",
       "4          0             1          0             0         0        0      0  \n",
       "\n",
       "[5 rows x 26 columns]"
      ]
     },
     "execution_count": 23,
     "metadata": {},
     "output_type": "execute_result"
    }
   ],
   "source": [
    "data.head()"
   ]
  },
  {
   "cell_type": "code",
   "execution_count": 24,
   "id": "7643592e-2c21-4a73-a8c7-597b032665ce",
   "metadata": {},
   "outputs": [],
   "source": [
    "data = pd.get_dummies(data)"
   ]
  },
  {
   "cell_type": "code",
   "execution_count": 25,
   "id": "26dbe6f2-fa3d-4c1c-946b-ceee1e49e483",
   "metadata": {},
   "outputs": [
    {
     "data": {
      "text/html": [
       "<div>\n",
       "<style scoped>\n",
       "    .dataframe tbody tr th:only-of-type {\n",
       "        vertical-align: middle;\n",
       "    }\n",
       "\n",
       "    .dataframe tbody tr th {\n",
       "        vertical-align: top;\n",
       "    }\n",
       "\n",
       "    .dataframe thead th {\n",
       "        text-align: right;\n",
       "    }\n",
       "</style>\n",
       "<table border=\"1\" class=\"dataframe\">\n",
       "  <thead>\n",
       "    <tr style=\"text-align: right;\">\n",
       "      <th></th>\n",
       "      <th>Year</th>\n",
       "      <th>Price</th>\n",
       "      <th>Brand New</th>\n",
       "      <th>recondition</th>\n",
       "      <th>Petrol</th>\n",
       "      <th>Diesel</th>\n",
       "      <th>Electric</th>\n",
       "      <th>Hybrid</th>\n",
       "      <th>Gas</th>\n",
       "      <th>Super</th>\n",
       "      <th>...</th>\n",
       "      <th>Company_Toyota</th>\n",
       "      <th>Company_Volvo</th>\n",
       "      <th>Drive Type_All-Wheel Drive (AWD)</th>\n",
       "      <th>Drive Type_Four-Wheel Drive (4WD)</th>\n",
       "      <th>Drive Type_Front-Wheel Drive (FWD)</th>\n",
       "      <th>Drive Type_Rear-Wheel Drive (RWD)</th>\n",
       "      <th>Country_American</th>\n",
       "      <th>Country_Asian</th>\n",
       "      <th>Country_British</th>\n",
       "      <th>Country_European</th>\n",
       "    </tr>\n",
       "  </thead>\n",
       "  <tbody>\n",
       "    <tr>\n",
       "      <th>0</th>\n",
       "      <td>2012</td>\n",
       "      <td>107386.48</td>\n",
       "      <td>0</td>\n",
       "      <td>1</td>\n",
       "      <td>1</td>\n",
       "      <td>0</td>\n",
       "      <td>0</td>\n",
       "      <td>0</td>\n",
       "      <td>0</td>\n",
       "      <td>0</td>\n",
       "      <td>...</td>\n",
       "      <td>False</td>\n",
       "      <td>False</td>\n",
       "      <td>True</td>\n",
       "      <td>False</td>\n",
       "      <td>False</td>\n",
       "      <td>False</td>\n",
       "      <td>False</td>\n",
       "      <td>False</td>\n",
       "      <td>False</td>\n",
       "      <td>True</td>\n",
       "    </tr>\n",
       "    <tr>\n",
       "      <th>1</th>\n",
       "      <td>2018</td>\n",
       "      <td>141834.25</td>\n",
       "      <td>1</td>\n",
       "      <td>0</td>\n",
       "      <td>0</td>\n",
       "      <td>1</td>\n",
       "      <td>0</td>\n",
       "      <td>1</td>\n",
       "      <td>0</td>\n",
       "      <td>0</td>\n",
       "      <td>...</td>\n",
       "      <td>False</td>\n",
       "      <td>False</td>\n",
       "      <td>True</td>\n",
       "      <td>False</td>\n",
       "      <td>False</td>\n",
       "      <td>False</td>\n",
       "      <td>False</td>\n",
       "      <td>True</td>\n",
       "      <td>False</td>\n",
       "      <td>False</td>\n",
       "    </tr>\n",
       "    <tr>\n",
       "      <th>2</th>\n",
       "      <td>2013</td>\n",
       "      <td>89763.13</td>\n",
       "      <td>0</td>\n",
       "      <td>1</td>\n",
       "      <td>0</td>\n",
       "      <td>0</td>\n",
       "      <td>1</td>\n",
       "      <td>0</td>\n",
       "      <td>0</td>\n",
       "      <td>1</td>\n",
       "      <td>...</td>\n",
       "      <td>False</td>\n",
       "      <td>False</td>\n",
       "      <td>False</td>\n",
       "      <td>False</td>\n",
       "      <td>True</td>\n",
       "      <td>False</td>\n",
       "      <td>False</td>\n",
       "      <td>True</td>\n",
       "      <td>False</td>\n",
       "      <td>False</td>\n",
       "    </tr>\n",
       "    <tr>\n",
       "      <th>3</th>\n",
       "      <td>2020</td>\n",
       "      <td>133544.29</td>\n",
       "      <td>0</td>\n",
       "      <td>1</td>\n",
       "      <td>0</td>\n",
       "      <td>0</td>\n",
       "      <td>0</td>\n",
       "      <td>0</td>\n",
       "      <td>0</td>\n",
       "      <td>0</td>\n",
       "      <td>...</td>\n",
       "      <td>True</td>\n",
       "      <td>False</td>\n",
       "      <td>False</td>\n",
       "      <td>True</td>\n",
       "      <td>False</td>\n",
       "      <td>False</td>\n",
       "      <td>False</td>\n",
       "      <td>False</td>\n",
       "      <td>True</td>\n",
       "      <td>False</td>\n",
       "    </tr>\n",
       "    <tr>\n",
       "      <th>4</th>\n",
       "      <td>2020</td>\n",
       "      <td>4748.35</td>\n",
       "      <td>0</td>\n",
       "      <td>0</td>\n",
       "      <td>0</td>\n",
       "      <td>0</td>\n",
       "      <td>0</td>\n",
       "      <td>0</td>\n",
       "      <td>1</td>\n",
       "      <td>0</td>\n",
       "      <td>...</td>\n",
       "      <td>False</td>\n",
       "      <td>False</td>\n",
       "      <td>False</td>\n",
       "      <td>False</td>\n",
       "      <td>False</td>\n",
       "      <td>True</td>\n",
       "      <td>False</td>\n",
       "      <td>True</td>\n",
       "      <td>False</td>\n",
       "      <td>False</td>\n",
       "    </tr>\n",
       "  </tbody>\n",
       "</table>\n",
       "<p>5 rows × 52 columns</p>\n",
       "</div>"
      ],
      "text/plain": [
       "   Year      Price  Brand New  recondition  Petrol  Diesel  Electric  Hybrid  \\\n",
       "0  2012  107386.48          0            1       1       0         0       0   \n",
       "1  2018  141834.25          1            0       0       1         0       1   \n",
       "2  2013   89763.13          0            1       0       0         1       0   \n",
       "3  2020  133544.29          0            1       0       0         0       0   \n",
       "4  2020    4748.35          0            0       0       0         0       0   \n",
       "\n",
       "   Gas  Super  ...  Company_Toyota  Company_Volvo  \\\n",
       "0    0      0  ...           False          False   \n",
       "1    0      0  ...           False          False   \n",
       "2    0      1  ...           False          False   \n",
       "3    0      0  ...            True          False   \n",
       "4    1      0  ...           False          False   \n",
       "\n",
       "   Drive Type_All-Wheel Drive (AWD)  Drive Type_Four-Wheel Drive (4WD)  \\\n",
       "0                              True                              False   \n",
       "1                              True                              False   \n",
       "2                             False                              False   \n",
       "3                             False                               True   \n",
       "4                             False                              False   \n",
       "\n",
       "   Drive Type_Front-Wheel Drive (FWD)  Drive Type_Rear-Wheel Drive (RWD)  \\\n",
       "0                               False                              False   \n",
       "1                               False                              False   \n",
       "2                                True                              False   \n",
       "3                               False                              False   \n",
       "4                               False                               True   \n",
       "\n",
       "   Country_American  Country_Asian  Country_British  Country_European  \n",
       "0             False          False            False              True  \n",
       "1             False           True            False             False  \n",
       "2             False           True            False             False  \n",
       "3             False          False             True             False  \n",
       "4             False           True            False             False  \n",
       "\n",
       "[5 rows x 52 columns]"
      ]
     },
     "execution_count": 25,
     "metadata": {},
     "output_type": "execute_result"
    }
   ],
   "source": [
    "data.head()"
   ]
  },
  {
   "cell_type": "code",
   "execution_count": 26,
   "id": "a6a48004-ff7a-498d-a5af-6cab6283f54e",
   "metadata": {},
   "outputs": [
    {
     "data": {
      "text/plain": [
       "(1000, 52)"
      ]
     },
     "execution_count": 26,
     "metadata": {},
     "output_type": "execute_result"
    }
   ],
   "source": [
    "data.shape"
   ]
  },
  {
   "cell_type": "code",
   "execution_count": 27,
   "id": "5aa66526-cbe9-4d4c-816c-7423c2adeaad",
   "metadata": {
    "scrolled": true
   },
   "outputs": [],
   "source": [
    "x = data.drop('Price', axis=1)\n",
    "y = data['Price']"
   ]
  },
  {
   "cell_type": "code",
   "execution_count": 28,
   "id": "e9a7dd9a-0064-475b-be7e-abcacb71a5b2",
   "metadata": {},
   "outputs": [
    {
     "name": "stdout",
     "output_type": "stream",
     "text": [
      "Requirement already satisfied: sklearn in c:\\users\\sula\\appdata\\local\\programs\\python\\python311\\lib\\site-packages (0.0.post7)\n"
     ]
    },
    {
     "name": "stderr",
     "output_type": "stream",
     "text": [
      "\n",
      "[notice] A new release of pip is available: 23.1.2 -> 23.2.1\n",
      "[notice] To update, run: python.exe -m pip install --upgrade pip\n"
     ]
    }
   ],
   "source": [
    "!pip install sklearn"
   ]
  },
  {
   "cell_type": "code",
   "execution_count": 29,
   "id": "bfa3cb5a-92e9-4bc6-9e81-311879e856d8",
   "metadata": {},
   "outputs": [],
   "source": [
    "from sklearn.model_selection import train_test_split\n",
    "x_train, x_test, y_train, y_test = train_test_split(x, y, test_size=0.25)"
   ]
  },
  {
   "cell_type": "code",
   "execution_count": 30,
   "id": "3da2a5ea-f458-4c7b-a0e4-c4efd63b3292",
   "metadata": {},
   "outputs": [
    {
     "data": {
      "text/plain": [
       "((750, 51), (250, 51))"
      ]
     },
     "execution_count": 30,
     "metadata": {},
     "output_type": "execute_result"
    }
   ],
   "source": [
    "x_train.shape, x_test.shape"
   ]
  },
  {
   "cell_type": "code",
   "execution_count": 31,
   "id": "12ea1edc-0c4e-4428-97fc-4c2c153878c3",
   "metadata": {},
   "outputs": [],
   "source": [
    "def model_acc(model):\n",
    "    model.fit(x_train, y_train)\n",
    "    acc = model.score(x_test, y_test)\n",
    "    print(str(model)+ ' --> ' +str(acc))"
   ]
  },
  {
   "cell_type": "code",
   "execution_count": 32,
   "id": "2b72a4e6-01e8-46c3-9a35-4a89601e888b",
   "metadata": {},
   "outputs": [],
   "source": [
    "### building model tunning "
   ]
  },
  {
   "cell_type": "code",
   "execution_count": 33,
   "id": "b2cd3179-4e75-4d7a-abb6-f6b29e6cf4c0",
   "metadata": {},
   "outputs": [
    {
     "name": "stdout",
     "output_type": "stream",
     "text": [
      "LinearRegression() --> -0.017501553200529596\n",
      "Lasso() --> -0.017325517144139546\n",
      "DecisionTreeRegressor() --> -1.2656589523535446\n",
      "RandomForestRegressor() --> -0.06593682828631775\n"
     ]
    }
   ],
   "source": [
    "from sklearn.linear_model import LinearRegression\n",
    "lr = LinearRegression()\n",
    "model_acc(lr)\n",
    "\n",
    "from sklearn.linear_model import Lasso\n",
    "lasso = Lasso()\n",
    "model_acc(lasso)\n",
    "\n",
    "from sklearn.tree import DecisionTreeRegressor\n",
    "dt = DecisionTreeRegressor()\n",
    "model_acc(dt)\n",
    "\n",
    "from sklearn.ensemble import RandomForestRegressor\n",
    "rf = RandomForestRegressor()\n",
    "model_acc(rf)"
   ]
  },
  {
   "cell_type": "code",
   "execution_count": 34,
   "id": "77de7c44-0860-4fd9-8354-5d688824eb06",
   "metadata": {},
   "outputs": [],
   "source": [
    "### Hyperparameter tunning "
   ]
  },
  {
   "cell_type": "code",
   "execution_count": 35,
   "id": "aeba6a6a-9481-42d0-9600-e6b4dee122c5",
   "metadata": {},
   "outputs": [
    {
     "data": {
      "text/plain": [
       "-0.06326973627077415"
      ]
     },
     "execution_count": 35,
     "metadata": {},
     "output_type": "execute_result"
    }
   ],
   "source": [
    "from sklearn.model_selection import GridSearchCV\n",
    "\n",
    "parameters = {'n_estimators':[10, 50, 100],\n",
    "              'criterion':['squared_error','absolute_error','poisson']}\n",
    "\n",
    "grid_obj = GridSearchCV(estimator=rf, param_grid=parameters)\n",
    "\n",
    "grid_fit = grid_obj.fit(x_train, y_train)\n",
    "\n",
    "best_model = grid_fit.best_estimator_\n",
    "\n",
    "best_model.score(x_test, y_test)"
   ]
  },
  {
   "cell_type": "code",
   "execution_count": 36,
   "id": "ec8dd925-d811-4c8d-b353-1d145897f3ea",
   "metadata": {},
   "outputs": [
    {
     "data": {
      "text/plain": [
       "Index(['Year', 'Brand New', 'recondition', 'Petrol', 'Diesel', 'Electric',\n",
       "       'Hybrid', 'Gas', 'Super', 'Sports', 'Hyper', 'Plug-in Hybrid (PHEV)',\n",
       "       'Coupe-SUV', 'SUV', 'Convertible', 'Crossover', 'Estate/Wagon',\n",
       "       'Hatchback', 'Pickup Truck', 'Roadster', 'Minivan', 'Sedan',\n",
       "       'Company_Aston Martin', 'Company_Cadilla', 'Company_Chevrolet',\n",
       "       'Company_Dodge', 'Company_Fiat', 'Company_Honda', 'Company_Hummer',\n",
       "       'Company_Jaguar', 'Company_Land Rover', 'Company_Mazda',\n",
       "       'Company_Mercedes-Benz', 'Company_Nissan', 'Company_Other',\n",
       "       'Company_Pagani', 'Company_Peugeot', 'Company_Ram', 'Company_Subaru',\n",
       "       'Company_Suzuki', 'Company_Tesla', 'Company_Toyota', 'Company_Volvo',\n",
       "       'Drive Type_All-Wheel Drive (AWD)', 'Drive Type_Four-Wheel Drive (4WD)',\n",
       "       'Drive Type_Front-Wheel Drive (FWD)',\n",
       "       'Drive Type_Rear-Wheel Drive (RWD)', 'Country_American',\n",
       "       'Country_Asian', 'Country_British', 'Country_European'],\n",
       "      dtype='object')"
      ]
     },
     "execution_count": 36,
     "metadata": {},
     "output_type": "execute_result"
    }
   ],
   "source": [
    "x_test.columns"
   ]
  },
  {
   "cell_type": "code",
   "execution_count": 37,
   "id": "841cf106-4928-4338-90cc-1f0e08306fc3",
   "metadata": {},
   "outputs": [],
   "source": [
    "import pickle\n",
    "with open('predictor.pickle', 'wb') as file:\n",
    "    pickle.dump(best_model, file)"
   ]
  },
  {
   "cell_type": "code",
   "execution_count": 39,
   "id": "f776ff6a-998d-4de6-ac75-27026c36dc68",
   "metadata": {},
   "outputs": [
    {
     "name": "stdout",
     "output_type": "stream",
     "text": [
      "<class 'pandas.core.frame.DataFrame'>\n",
      "RangeIndex: 1000 entries, 0 to 999\n",
      "Data columns (total 52 columns):\n",
      " #   Column                              Non-Null Count  Dtype  \n",
      "---  ------                              --------------  -----  \n",
      " 0   Year                                1000 non-null   int64  \n",
      " 1   Price                               1000 non-null   float64\n",
      " 2   Brand New                           1000 non-null   int64  \n",
      " 3   recondition                         1000 non-null   int64  \n",
      " 4   Petrol                              1000 non-null   int64  \n",
      " 5   Diesel                              1000 non-null   int64  \n",
      " 6   Electric                            1000 non-null   int64  \n",
      " 7   Hybrid                              1000 non-null   int64  \n",
      " 8   Gas                                 1000 non-null   int64  \n",
      " 9   Super                               1000 non-null   int64  \n",
      " 10  Sports                              1000 non-null   int64  \n",
      " 11  Hyper                               1000 non-null   int64  \n",
      " 12  Plug-in Hybrid (PHEV)               1000 non-null   int64  \n",
      " 13  Coupe-SUV                           1000 non-null   int64  \n",
      " 14  SUV                                 1000 non-null   int64  \n",
      " 15  Convertible                         1000 non-null   int64  \n",
      " 16  Crossover                           1000 non-null   int64  \n",
      " 17  Estate/Wagon                        1000 non-null   int64  \n",
      " 18  Hatchback                           1000 non-null   int64  \n",
      " 19  Pickup Truck                        1000 non-null   int64  \n",
      " 20  Roadster                            1000 non-null   int64  \n",
      " 21  Minivan                             1000 non-null   int64  \n",
      " 22  Sedan                               1000 non-null   int64  \n",
      " 23  Company_Aston Martin                1000 non-null   bool   \n",
      " 24  Company_Cadilla                     1000 non-null   bool   \n",
      " 25  Company_Chevrolet                   1000 non-null   bool   \n",
      " 26  Company_Dodge                       1000 non-null   bool   \n",
      " 27  Company_Fiat                        1000 non-null   bool   \n",
      " 28  Company_Honda                       1000 non-null   bool   \n",
      " 29  Company_Hummer                      1000 non-null   bool   \n",
      " 30  Company_Jaguar                      1000 non-null   bool   \n",
      " 31  Company_Land Rover                  1000 non-null   bool   \n",
      " 32  Company_Mazda                       1000 non-null   bool   \n",
      " 33  Company_Mercedes-Benz               1000 non-null   bool   \n",
      " 34  Company_Nissan                      1000 non-null   bool   \n",
      " 35  Company_Other                       1000 non-null   bool   \n",
      " 36  Company_Pagani                      1000 non-null   bool   \n",
      " 37  Company_Peugeot                     1000 non-null   bool   \n",
      " 38  Company_Ram                         1000 non-null   bool   \n",
      " 39  Company_Subaru                      1000 non-null   bool   \n",
      " 40  Company_Suzuki                      1000 non-null   bool   \n",
      " 41  Company_Tesla                       1000 non-null   bool   \n",
      " 42  Company_Toyota                      1000 non-null   bool   \n",
      " 43  Company_Volvo                       1000 non-null   bool   \n",
      " 44  Drive Type_All-Wheel Drive (AWD)    1000 non-null   bool   \n",
      " 45  Drive Type_Four-Wheel Drive (4WD)   1000 non-null   bool   \n",
      " 46  Drive Type_Front-Wheel Drive (FWD)  1000 non-null   bool   \n",
      " 47  Drive Type_Rear-Wheel Drive (RWD)   1000 non-null   bool   \n",
      " 48  Country_American                    1000 non-null   bool   \n",
      " 49  Country_Asian                       1000 non-null   bool   \n",
      " 50  Country_British                     1000 non-null   bool   \n",
      " 51  Country_European                    1000 non-null   bool   \n",
      "dtypes: bool(29), float64(1), int64(22)\n",
      "memory usage: 208.1 KB\n"
     ]
    }
   ],
   "source": [
    "data.info()"
   ]
  },
  {
   "cell_type": "code",
   "execution_count": 40,
   "id": "6f6f06e1-c7aa-42d4-8279-3abe146908f8",
   "metadata": {
    "scrolled": true
   },
   "outputs": [
    {
     "data": {
      "text/plain": [
       "Year\n",
       "2013    123\n",
       "2021    120\n",
       "2016    117\n",
       "2018    115\n",
       "2012    114\n",
       "2019    111\n",
       "2020    109\n",
       "2015    103\n",
       "2014     88\n",
       "Name: count, dtype: int64"
      ]
     },
     "execution_count": 40,
     "metadata": {},
     "output_type": "execute_result"
    }
   ],
   "source": [
    "data['Year'].value_counts()"
   ]
  },
  {
   "cell_type": "code",
   "execution_count": 41,
   "id": "ef164108-0b2a-400f-90fc-f1b1966d79a6",
   "metadata": {},
   "outputs": [],
   "source": [
    "data.rename(columns={'Year': 'medication'}, inplace=True)  # Rename the 'year' column to 'myear'\n",
    "value_counts_result = data['medication'].value_counts() "
   ]
  },
  {
   "cell_type": "code",
   "execution_count": 42,
   "id": "ecb0d85f-33c8-471f-a667-da8c7f14da40",
   "metadata": {},
   "outputs": [
    {
     "data": {
      "text/plain": [
       "medication\n",
       "2013    123\n",
       "2021    120\n",
       "2016    117\n",
       "2018    115\n",
       "2012    114\n",
       "2019    111\n",
       "2020    109\n",
       "2015    103\n",
       "2014     88\n",
       "Name: count, dtype: int64"
      ]
     },
     "execution_count": 42,
     "metadata": {},
     "output_type": "execute_result"
    }
   ],
   "source": [
    "data['medication'].value_counts()"
   ]
  },
  {
   "cell_type": "code",
   "execution_count": 53,
   "id": "c59bed32-1a5b-45a1-a2a7-460804fdd53f",
   "metadata": {
    "scrolled": true
   },
   "outputs": [
    {
     "name": "stderr",
     "output_type": "stream",
     "text": [
      "C:\\Users\\sula\\AppData\\Local\\Programs\\Python\\Python311\\Lib\\site-packages\\sklearn\\base.py:464: UserWarning: X does not have valid feature names, but RandomForestRegressor was fitted with feature names\n",
      "  warnings.warn(\n"
     ]
    },
    {
     "data": {
      "text/plain": [
       "array([83616.7421])"
      ]
     },
     "execution_count": 53,
     "metadata": {},
     "output_type": "execute_result"
    }
   ],
   "source": [
    "best_model.predict([[2012,0 , 0, 1, 1, 0, 0, 1, 1, 1, 1, 0, 0, 0, 0, 1, 0, 0, 1, 0, 0, 1, 0, 0, 0, 0, 1, 0, 1, 0, 0, 0, 0, 0, 0, 0, 0, 0, 0, 0, 0, 0, 0, 0, 0, 0, 0, 0, 0, 0, 0]])"
   ]
  },
  {
   "cell_type": "code",
   "execution_count": null,
   "id": "7e25b6b4-a05b-439a-a48d-124af8c2ec9f",
   "metadata": {},
   "outputs": [],
   "source": []
  },
  {
   "cell_type": "code",
   "execution_count": null,
   "id": "80224744-36cf-4028-ab16-6898280ce0eb",
   "metadata": {},
   "outputs": [],
   "source": []
  }
 ],
 "metadata": {
  "kernelspec": {
   "display_name": "Python 3 (ipykernel)",
   "language": "python",
   "name": "python3"
  },
  "language_info": {
   "codemirror_mode": {
    "name": "ipython",
    "version": 3
   },
   "file_extension": ".py",
   "mimetype": "text/x-python",
   "name": "python",
   "nbconvert_exporter": "python",
   "pygments_lexer": "ipython3",
   "version": "3.11.4"
  }
 },
 "nbformat": 4,
 "nbformat_minor": 5
}
